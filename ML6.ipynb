{
 "cells": [
  {
   "cell_type": "code",
   "execution_count": 2,
   "metadata": {},
   "outputs": [],
   "source": [
    "# Apply Linear, Ridge, Lasso Regression technique of machine learning\n",
    "# to analyze and build the model of the Diabetesdataset.\n",
    "# Display and compare the accuracy(Cross-Validation, R2 Score)\n",
    "# of all the models"
   ]
  },
  {
   "cell_type": "code",
   "execution_count": 2,
   "metadata": {},
   "outputs": [],
   "source": [
    "import numpy as np\n",
    "import pandas as pd\n",
    "import matplotlib.pyplot as plt\n",
    "from sklearn.linear_model import LinearRegression, Ridge, RidgeCV, Lasso, LassoCV\n",
    "from sklearn.datasets import load_diabetes\n",
    "from sklearn.model_selection import cross_val_score\n",
    "from sklearn.metrics import r2_score"
   ]
  },
  {
   "cell_type": "code",
   "execution_count": 3,
   "metadata": {},
   "outputs": [],
   "source": [
    "diabetes = load_diabetes()\n",
    "X = diabetes.data\n",
    "y = diabetes.target\n"
   ]
  },
  {
   "cell_type": "code",
   "execution_count": 9,
   "metadata": {},
   "outputs": [
    {
     "data": {
      "text/plain": [
       "(442, 10)"
      ]
     },
     "execution_count": 9,
     "metadata": {},
     "output_type": "execute_result"
    }
   ],
   "source": [
    "X.shape"
   ]
  },
  {
   "cell_type": "code",
   "execution_count": 4,
   "metadata": {},
   "outputs": [
    {
     "name": "stdout",
     "output_type": "stream",
     "text": [
      "(442, 10)\n",
      "(442,)\n"
     ]
    }
   ],
   "source": [
    "print(X.shape)\n",
    "print(y.shape)"
   ]
  },
  {
   "cell_type": "code",
   "execution_count": 5,
   "metadata": {},
   "outputs": [
    {
     "name": "stdout",
     "output_type": "stream",
     "text": [
      "0.5177494254132934\n",
      "0.4823181221114939\n",
      "[ -10.01219782 -239.81908937  519.83978679  324.39042769 -792.18416163\n",
      "  476.74583782  101.04457032  177.06417623  751.27932109   67.62538639]\n",
      "152.1334841628965\n",
      "0.5177494254132934\n"
     ]
    }
   ],
   "source": [
    "lr = LinearRegression()\n",
    "lr.fit(X,y)\n",
    "y_predict = lr.predict(X)\n",
    "\n",
    "print(lr.score(X,y))\n",
    "lr_scores = cross_val_score(lr,X,y,cv=5)\n",
    "print(lr_scores.mean())\n",
    "print(lr.coef_)\n",
    "print(lr.intercept_)\n",
    "print(r2_score(y,y_predict))"
   ]
  },
  {
   "cell_type": "code",
   "execution_count": 30,
   "metadata": {},
   "outputs": [
    {
     "name": "stdout",
     "output_type": "stream",
     "text": [
      "0.5131486010621044\n",
      "0.48204217044282477\n",
      "[  -0.         -194.04749923  521.81917521  295.22384739  -99.44970769\n",
      "   -0.         -222.72076612    0.          512.04940782   52.92594445]\n",
      "152.13348416289645\n"
     ]
    }
   ],
   "source": [
    "# Lasso\n",
    "lr = Lasso(alpha=0.05)\n",
    "lr.fit(X,y)\n",
    "y_predict = lr.predict(X)\n",
    "\n",
    "print(lr.score(X,y))\n",
    "lr_scores = cross_val_score(lr,X,y,cv=5)\n",
    "print(lr_scores.mean())\n",
    "# print(lr.coef_)\n",
    "# print(lr.intercept_)"
   ]
  },
  {
   "cell_type": "code",
   "execution_count": 31,
   "metadata": {},
   "outputs": [
    {
     "name": "stdout",
     "output_type": "stream",
     "text": [
      "0.04\n",
      "0.5138646937185254\n",
      "0.47995535949978924\n",
      "[  -0.         -202.27296915  522.96840122  299.88446204 -118.13019877\n",
      "   -0.         -212.94729492   16.5039356   517.11486339   56.3117281 ]\n",
      "152.13348416289645\n"
     ]
    }
   ],
   "source": [
    "# LassoCV\n",
    "lr = LassoCV(alphas=[0.01,0.02,0.04,0.05,0.1,0.2,0.5])\n",
    "lr.fit(X,y)\n",
    "y_predict = lr.predict(X)\n",
    "\n",
    "print(lr.alpha_)\n",
    "print(lr.score(X,y))\n",
    "lr_scores = cross_val_score(lr,X,y,cv=5)\n",
    "print(lr_scores.mean())\n",
    "# print(lr.coef_)\n",
    "# print(lr.intercept_)"
   ]
  },
  {
   "cell_type": "code",
   "execution_count": 32,
   "metadata": {},
   "outputs": [
    {
     "name": "stdout",
     "output_type": "stream",
     "text": [
      "0.5144431310030684\n",
      "0.48081634735342826\n",
      "[  -2.69045402 -221.28733251  507.59872561  311.48379569 -137.96353066\n",
      "  -36.98110839 -174.62635298  113.63280903  483.13024134   79.20916664]\n",
      "152.13348416289642\n"
     ]
    }
   ],
   "source": [
    "# Ridge\n",
    "lr = Ridge(alpha=0.05)\n",
    "lr.fit(X,y)\n",
    "y_predict = lr.predict(X)\n",
    "\n",
    "print(lr.score(X,y))\n",
    "lr_scores = cross_val_score(lr,X,y,cv=5)\n",
    "print(lr_scores.mean())\n",
    "# print(lr.coef_)\n",
    "# print(lr.intercept_)"
   ]
  },
  {
   "cell_type": "code",
   "execution_count": 33,
   "metadata": {},
   "outputs": [
    {
     "name": "stdout",
     "output_type": "stream",
     "text": [
      "0.01\n",
      "0.5166287840315842\n",
      "0.4802027531860105\n",
      "[  -7.19945679 -234.55293001  520.58313622  320.52335582 -380.60706569\n",
      "  150.48375154  -78.59123221  130.31305868  592.34958662   71.1337681 ]\n",
      "152.13348416289645\n"
     ]
    }
   ],
   "source": [
    "# LassoCV\n",
    "lr = RidgeCV(alphas=[0.01,0.02,0.04,0.05,0.1,0.2,0.5])\n",
    "lr.fit(X,y)\n",
    "y_predict = lr.predict(X)\n",
    "\n",
    "print(lr.alpha_)\n",
    "print(lr.score(X,y))\n",
    "lr_scores = cross_val_score(lr,X,y,cv=5)\n",
    "print(lr_scores.mean())\n",
    "# print(lr.coef_)\n",
    "# print(lr.intercept_)"
   ]
  },
  {
   "cell_type": "code",
   "execution_count": null,
   "metadata": {},
   "outputs": [],
   "source": []
  }
 ],
 "metadata": {
  "interpreter": {
   "hash": "e4cce46d6be9934fbd27f9ca0432556941ea5bdf741d4f4d64c6cd7f8dfa8fba"
  },
  "kernelspec": {
   "display_name": "Python 3",
   "language": "python",
   "name": "python3"
  },
  "language_info": {
   "codemirror_mode": {
    "name": "ipython",
    "version": 3
   },
   "file_extension": ".py",
   "mimetype": "text/x-python",
   "name": "python",
   "nbconvert_exporter": "python",
   "pygments_lexer": "ipython3",
   "version": "3.8.3"
  }
 },
 "nbformat": 4,
 "nbformat_minor": 2
}
